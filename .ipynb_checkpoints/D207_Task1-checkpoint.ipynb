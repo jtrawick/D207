{
 "cells": [
  {
   "cell_type": "markdown",
   "id": "ee5e0528-d4bd-4530-80b9-16d63c983cc2",
   "metadata": {
    "id": "ee5e0528-d4bd-4530-80b9-16d63c983cc2"
   },
   "source": [
    "# D207- Exploratory Data Analysis\n",
    "___\n",
    "## Performance Assessment - Task 1: Exploratory Data Analysis OEM2\n",
    "### Medical Readmission Data Set (Clean)\n",
    "---\n",
    "<br></br>\n",
    "\n",
    "<br></br>"
   ]
  },
  {
   "cell_type": "markdown",
   "id": "827a1155-8009-412a-bb18-3b502189c21f",
   "metadata": {
    "id": "827a1155-8009-412a-bb18-3b502189c21f"
   },
   "source": [
    "### A1: Question for Analysis\n",
    "\n",
    "Is the initial length of a patient's hospital stay (Initial_days) correlated to the likelihood of that patient to be readmitted? \n"
   ]
  },
  {
   "cell_type": "markdown",
   "id": "374a65c2-f393-4bd6-aaeb-3ccb08e28e00",
   "metadata": {
    "id": "374a65c2-f393-4bd6-aaeb-3ccb08e28e00"
   },
   "source": [
    "### A2: Benefit from Analysis\n",
    "\n",
    "Analyzing these data for patterns and trends would allow the company and its stakeholders to more accurately predict the probability of a patient being readmitted. Furthermore, gaining additional insight and intelligence into the potential outcomes would enable the organization to better predict both the associated cost and resources required by their facilities as well as the potential fines if they are unable to meet the standards required by CMS."
   ]
  },
  {
   "cell_type": "markdown",
   "id": "Rc_zQyVMaK6H",
   "metadata": {
    "id": "Rc_zQyVMaK6H"
   },
   "source": [
    "### A3: Data Identification"
   ]
  },
  {
   "cell_type": "markdown",
   "id": "_QNt0lxpkUyY",
   "metadata": {
    "id": "_QNt0lxpkUyY"
   },
   "source": [
    "The relevant data from the medical_clean.csv dataset required to interrogate the question above include the \"Initial_days\" and \"ReAdmis\" variables. These two should be all we need to answer the question of whether or not the initial length of a patient's hospital stay is predictive of their probability of readmission."
   ]
  },
  {
   "cell_type": "markdown",
   "id": "uBwbWpoWaq1T",
   "metadata": {
    "id": "uBwbWpoWaq1T"
   },
   "source": [
    "### B1 & B2: Code & Output\n",
    "___\n"
   ]
  },
  {
   "cell_type": "code",
   "execution_count": 3,
   "id": "adcac784-d732-4910-89ab-767bcba4a1d2",
   "metadata": {},
   "outputs": [],
   "source": [
    "%config Completer.use_jedi = False"
   ]
  },
  {
   "cell_type": "code",
   "execution_count": 31,
   "id": "530af703-4683-4940-99b9-cff80146b53e",
   "metadata": {},
   "outputs": [],
   "source": [
    "# load in all libraries\n",
    "import numpy as np\n",
    "import pandas as pd\n",
    "from scipy import stats\n",
    "import matplotlib.pyplot as plt\n",
    "import seaborn as sns\n",
    "import plotnine as p9 \n",
    "\n",
    "# read in dataset and sub-select necessary variables\n",
    "df = pd.read_csv('./data/medical_clean.csv', \n",
    "                usecols=['Initial_days', 'ReAdmis'])\n",
    "\n",
    "# two-sample t-test\n",
    "\n",
    "readmit_yes = df[df['ReAdmis'] == 'Yes'].Initial_days\n",
    "readmit_no = df[df['ReAdmis'] == 'No'].Initial_days\n",
    "\n",
    "ttest_result = stats.ttest_ind(readmit_yes, readmit_no)\n",
    "print(ttest_result)\n",
    "\n",
    "alpha = .05\n",
    "\n",
    "if (ttest_result[1] < alpha):\n",
    "    print(f'T-Test p-value returned as: {str(ttest_result[1])} with an alpha of {str(alpha)}. \\nP-value falls within .05 alpha: \\nReject the null hypothesis.')\n",
    "else:\n",
    "    print(f'T-Test p-value returned as: {str(ttest_result[1])} with an alpha of {str(alpha)}. \\nP-value does not fall within .05 alpha: \\nAccept the null hypothesis.')\n",
    "        "
   ]
  },
  {
   "cell_type": "markdown",
   "id": "IeGE2aLGZD5J",
   "metadata": {
    "id": "IeGE2aLGZD5J"
   },
   "source": [
    " ### B2: Output"
   ]
  },
  {
   "cell_type": "markdown",
   "id": "5_adK0n-Zqti",
   "metadata": {
    "id": "5_adK0n-Zqti"
   },
   "source": [
    "### B3: Justification"
   ]
  },
  {
   "cell_type": "markdown",
   "id": "xqECdnV0avMt",
   "metadata": {
    "id": "xqECdnV0avMt"
   },
   "source": [
    "### C: Univariate Statistics"
   ]
  },
  {
   "cell_type": "markdown",
   "id": "pPW1SV7lbB7B",
   "metadata": {
    "id": "pPW1SV7lbB7B"
   },
   "source": [
    "### C1: Visual of Findings"
   ]
  },
  {
   "cell_type": "markdown",
   "id": "jDTvxf7WbLlU",
   "metadata": {
    "id": "jDTvxf7WbLlU"
   },
   "source": [
    "### D: Bivariate Statistics"
   ]
  },
  {
   "cell_type": "markdown",
   "id": "CO561xwtbZHB",
   "metadata": {
    "id": "CO561xwtbZHB"
   },
   "source": [
    "### D1: Visual of Findings"
   ]
  },
  {
   "cell_type": "markdown",
   "id": "wdSX39vsbh7P",
   "metadata": {
    "id": "wdSX39vsbh7P"
   },
   "source": [
    "### E1: Results of Analysis"
   ]
  },
  {
   "cell_type": "markdown",
   "id": "I08rh5Mibqj6",
   "metadata": {
    "id": "I08rh5Mibqj6"
   },
   "source": [
    "### E2: Limitations of Analysis"
   ]
  },
  {
   "cell_type": "markdown",
   "id": "XDJCSMzmbxS8",
   "metadata": {
    "id": "XDJCSMzmbxS8"
   },
   "source": [
    "### E3: Recommended Course of Action"
   ]
  },
  {
   "cell_type": "markdown",
   "id": "3DCr5UNGb3gM",
   "metadata": {
    "id": "3DCr5UNGb3gM"
   },
   "source": [
    "### H: Sources"
   ]
  },
  {
   "cell_type": "code",
   "execution_count": null,
   "id": "e3550ce9-2d55-4e8e-88c8-96e767e2911e",
   "metadata": {},
   "outputs": [],
   "source": [
    "# boxplot\n",
    "\n",
    "print(\n",
    "    p9.ggplot(df) +\n",
    "    p9.aes(x='ReAdmis', y='Initial_days', fill='ReAdmis') +\n",
    "    p9.geom_boxplot())"
   ]
  },
  {
   "cell_type": "code",
   "execution_count": null,
   "id": "a8291380-c85f-4f72-b91f-5d149340c9e1",
   "metadata": {},
   "outputs": [],
   "source": [
    "# density plot\n",
    "\n",
    "print(\n",
    "    p9.ggplot(df) +\n",
    "    p9.aes(x='Initial_days', fill='ReAdmis') +\n",
    "    p9.geom_density(alpha=0.5))"
   ]
  }
 ],
 "metadata": {
  "colab": {
   "collapsed_sections": [],
   "name": "D207.ipynb",
   "provenance": [],
   "toc_visible": true
  },
  "kernelspec": {
   "display_name": "Python 3",
   "language": "python",
   "name": "python3"
  },
  "language_info": {
   "codemirror_mode": {
    "name": "ipython",
    "version": 3
   },
   "file_extension": ".py",
   "mimetype": "text/x-python",
   "name": "python",
   "nbconvert_exporter": "python",
   "pygments_lexer": "ipython3",
   "version": "3.8.10"
  }
 },
 "nbformat": 4,
 "nbformat_minor": 5
}
