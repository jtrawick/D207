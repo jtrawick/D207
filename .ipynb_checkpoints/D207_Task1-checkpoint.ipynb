{
 "cells": [
  {
   "cell_type": "markdown",
   "id": "ee5e0528-d4bd-4530-80b9-16d63c983cc2",
   "metadata": {
    "id": "ee5e0528-d4bd-4530-80b9-16d63c983cc2"
   },
   "source": [
    "# D207- Exploratory Data Analysis\n",
    "___\n",
    "## Performance Assessment - Task 1: Exploratory Data Analysis OEM2\n",
    "### Medical Readmission Data Set (Clean)\n",
    "---\n",
    "<br></br>\n",
    "\n",
    "<br></br>"
   ]
  },
  {
   "cell_type": "markdown",
   "id": "827a1155-8009-412a-bb18-3b502189c21f",
   "metadata": {
    "id": "827a1155-8009-412a-bb18-3b502189c21f"
   },
   "source": [
    "### A1: Question for Analysis\n",
    "\n",
    "Is the initial length of a patient's hospital stay (Initial_days) correlated to the likelihood of that patient to be readmitted? \n"
   ]
  },
  {
   "cell_type": "markdown",
   "id": "374a65c2-f393-4bd6-aaeb-3ccb08e28e00",
   "metadata": {
    "id": "374a65c2-f393-4bd6-aaeb-3ccb08e28e00"
   },
   "source": [
    "### A2: Benefit from Analysis\n",
    "\n",
    "Analyzing these data for patterns and trends would allow the company and its stakeholders to more accurately predict the probability of a patient being readmitted. Furthermore, gaining additional insight and intelligence into the potential outcomes would enable the organization to better predict both the associated cost and resources required by their facilities as well as the potential fines if they are unable to meet the standards required by CMS."
   ]
  },
  {
   "cell_type": "markdown",
   "id": "Rc_zQyVMaK6H",
   "metadata": {
    "id": "Rc_zQyVMaK6H"
   },
   "source": [
    "### A3: Data Identification"
   ]
  },
  {
   "cell_type": "markdown",
   "id": "_QNt0lxpkUyY",
   "metadata": {
    "id": "_QNt0lxpkUyY"
   },
   "source": [
    "The relevant data from the medical_clean.csv dataset required to interrogate the question above include the \"Initial_days\" and \"ReAdmis\" variables. These two should be all we need to answer the question of whether or not the initial length of a patient's hospital stay is predictive of their probability of readmission."
   ]
  },
  {
   "cell_type": "markdown",
   "id": "uBwbWpoWaq1T",
   "metadata": {
    "id": "uBwbWpoWaq1T"
   },
   "source": [
    "### B1: Code\n",
    "___\n"
   ]
  },
  {
   "cell_type": "code",
   "execution_count": 3,
   "id": "adcac784-d732-4910-89ab-767bcba4a1d2",
   "metadata": {},
   "outputs": [],
   "source": [
    "%config Completer.use_jedi = False"
   ]
  },
  {
   "cell_type": "code",
   "execution_count": 4,
   "id": "DyhODa59JvfY",
   "metadata": {
    "id": "DyhODa59JvfY"
   },
   "outputs": [],
   "source": [
    "# load in all libraries\n",
    "import numpy as np\n",
    "import pandas as pd\n",
    "from scipy import stats\n",
    "import matplotlib.pyplot as plt\n",
    "import seaborn as sns\n",
    "import plotnine as p9 "
   ]
  },
  {
   "cell_type": "code",
   "execution_count": 12,
   "id": "0bec25dc-4d40-4a0f-ae4d-5529e60b972c",
   "metadata": {},
   "outputs": [
    {
     "data": {
      "text/html": [
       "<div>\n",
       "<style scoped>\n",
       "    .dataframe tbody tr th:only-of-type {\n",
       "        vertical-align: middle;\n",
       "    }\n",
       "\n",
       "    .dataframe tbody tr th {\n",
       "        vertical-align: top;\n",
       "    }\n",
       "\n",
       "    .dataframe thead th {\n",
       "        text-align: right;\n",
       "    }\n",
       "</style>\n",
       "<table border=\"1\" class=\"dataframe\">\n",
       "  <thead>\n",
       "    <tr style=\"text-align: right;\">\n",
       "      <th></th>\n",
       "      <th>ReAdmis</th>\n",
       "      <th>Initial_days</th>\n",
       "    </tr>\n",
       "  </thead>\n",
       "  <tbody>\n",
       "    <tr>\n",
       "      <th>0</th>\n",
       "      <td>No</td>\n",
       "      <td>10.585770</td>\n",
       "    </tr>\n",
       "    <tr>\n",
       "      <th>1</th>\n",
       "      <td>No</td>\n",
       "      <td>15.129562</td>\n",
       "    </tr>\n",
       "    <tr>\n",
       "      <th>2</th>\n",
       "      <td>No</td>\n",
       "      <td>4.772177</td>\n",
       "    </tr>\n",
       "    <tr>\n",
       "      <th>3</th>\n",
       "      <td>No</td>\n",
       "      <td>1.714879</td>\n",
       "    </tr>\n",
       "    <tr>\n",
       "      <th>4</th>\n",
       "      <td>No</td>\n",
       "      <td>1.254807</td>\n",
       "    </tr>\n",
       "  </tbody>\n",
       "</table>\n",
       "</div>"
      ],
      "text/plain": [
       "  ReAdmis  Initial_days\n",
       "0      No     10.585770\n",
       "1      No     15.129562\n",
       "2      No      4.772177\n",
       "3      No      1.714879\n",
       "4      No      1.254807"
      ]
     },
     "execution_count": 12,
     "metadata": {},
     "output_type": "execute_result"
    }
   ],
   "source": [
    "# read in dataset and sub-select necessary variables\n",
    "df = pd.read_csv('./data/medical_clean.csv', \n",
    "                usecols=['Initial_days', 'ReAdmis'])\n",
    "df.head()"
   ]
  },
  {
   "cell_type": "code",
   "execution_count": null,
   "id": "7ec4cc51-4196-42fa-abf9-49b0b98bd7b4",
   "metadata": {},
   "outputs": [],
   "source": []
  },
  {
   "cell_type": "code",
   "execution_count": 13,
   "id": "4a9480b5-8942-46f7-a498-f4be8fd9a353",
   "metadata": {},
   "outputs": [
    {
     "data": {
      "image/png": "[encoded data removed]",
      "text/plain": [
       "<Figure size 640x480 with 1 Axes>"
      ]
     },
     "metadata": {},
     "output_type": "display_data"
    },
    {
     "name": "stdout",
     "output_type": "stream",
     "text": [
      "\n"
     ]
    }
   ],
   "source": [
    "# boxplot\n",
    "\n",
    "print(\n",
    "    p9.ggplot(df) +\n",
    "    p9.aes(x='ReAdmis', y='Initial_days', fill='ReAdmis') +\n",
    "    p9.geom_boxplot())"
   ]
  },
  {
   "cell_type": "code",
   "execution_count": 15,
   "id": "1afec9af-b0dd-4962-a588-c32019a82177",
   "metadata": {},
   "outputs": [
    {
     "data": {
      "image/png": "[encoded data removed]",
      "text/plain": [
       "<Figure size 640x480 with 1 Axes>"
      ]
     },
     "metadata": {},
     "output_type": "display_data"
    },
    {
     "name": "stdout",
     "output_type": "stream",
     "text": [
      "\n"
     ]
    }
   ],
   "source": [
    "# density plot\n",
    "\n",
    "print(\n",
    "    p9.ggplot(df) +\n",
    "    p9.aes(x='Initial_days', fill='ReAdmis') +\n",
    "    p9.geom_density(alpha=0.5))"
   ]
  },
  {
   "cell_type": "code",
   "execution_count": null,
   "id": "9e705a91-2267-48c6-b023-4ec977e68bda",
   "metadata": {},
   "outputs": [],
   "source": [
    "# two-sample t-test\n",
    "\n",
    "readmit_yes = df[df['ReAdmis'] == 'Yes']\n",
    "readmit_no = "
   ]
  },
  {
   "cell_type": "markdown",
   "id": "IeGE2aLGZD5J",
   "metadata": {
    "id": "IeGE2aLGZD5J"
   },
   "source": [
    " ### B2: Output"
   ]
  },
  {
   "cell_type": "markdown",
   "id": "5_adK0n-Zqti",
   "metadata": {
    "id": "5_adK0n-Zqti"
   },
   "source": [
    "### B3: Justification"
   ]
  },
  {
   "cell_type": "markdown",
   "id": "xqECdnV0avMt",
   "metadata": {
    "id": "xqECdnV0avMt"
   },
   "source": [
    "### C: Univariate Statistics"
   ]
  },
  {
   "cell_type": "markdown",
   "id": "pPW1SV7lbB7B",
   "metadata": {
    "id": "pPW1SV7lbB7B"
   },
   "source": [
    "### C1: Visual of Findings"
   ]
  },
  {
   "cell_type": "markdown",
   "id": "jDTvxf7WbLlU",
   "metadata": {
    "id": "jDTvxf7WbLlU"
   },
   "source": [
    "### D: Bivariate Statistics"
   ]
  },
  {
   "cell_type": "markdown",
   "id": "CO561xwtbZHB",
   "metadata": {
    "id": "CO561xwtbZHB"
   },
   "source": [
    "### D1: Visual of Findings"
   ]
  },
  {
   "cell_type": "markdown",
   "id": "wdSX39vsbh7P",
   "metadata": {
    "id": "wdSX39vsbh7P"
   },
   "source": [
    "### E1: Results of Analysis"
   ]
  },
  {
   "cell_type": "markdown",
   "id": "I08rh5Mibqj6",
   "metadata": {
    "id": "I08rh5Mibqj6"
   },
   "source": [
    "### E2: Limitations of Analysis"
   ]
  },
  {
   "cell_type": "markdown",
   "id": "XDJCSMzmbxS8",
   "metadata": {
    "id": "XDJCSMzmbxS8"
   },
   "source": [
    "### E3: Recommended Course of Action"
   ]
  },
  {
   "cell_type": "markdown",
   "id": "3DCr5UNGb3gM",
   "metadata": {
    "id": "3DCr5UNGb3gM"
   },
   "source": [
    "### H: Sources"
   ]
  }
 ],
 "metadata": {
  "colab": {
   "collapsed_sections": [],
   "name": "D207.ipynb",
   "provenance": [],
   "toc_visible": true
  },
  "kernelspec": {
   "display_name": "Python 3",
   "language": "python",
   "name": "python3"
  },
  "language_info": {
   "codemirror_mode": {
    "name": "ipython",
    "version": 3
   },
   "file_extension": ".py",
   "mimetype": "text/x-python",
   "name": "python",
   "nbconvert_exporter": "python",
   "pygments_lexer": "ipython3",
   "version": "3.8.10"
  }
 },
 "nbformat": 4,
 "nbformat_minor": 5
}
