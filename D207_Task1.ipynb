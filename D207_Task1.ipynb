{
  "nbformat": 4,
  "nbformat_minor": 5,
  "metadata": {
    "kernelspec": {
      "display_name": "Python 3",
      "language": "python",
      "name": "python3"
    },
    "language_info": {
      "codemirror_mode": {
        "name": "ipython",
        "version": 3
      },
      "file_extension": ".py",
      "mimetype": "text/x-python",
      "name": "python",
      "nbconvert_exporter": "python",
      "pygments_lexer": "ipython3",
      "version": "3.8.10"
    },
    "colab": {
      "name": "D207-Task1.ipynb",
      "provenance": [],
      "include_colab_link": true
    }
  },
  "cells": [
    {
      "cell_type": "markdown",
      "metadata": {
        "id": "view-in-github",
        "colab_type": "text"
      },
      "source": [
        "<a href=\"https://colab.research.google.com/github/jtrawick/D207/blob/main/D207_Task1.ipynb\" target=\"_parent\"><img src=\"https://colab.research.google.com/assets/colab-badge.svg\" alt=\"Open In Colab\"/></a>"
      ]
    },
    {
      "cell_type": "markdown",
      "metadata": {
        "id": "ee5e0528-d4bd-4530-80b9-16d63c983cc2"
      },
      "source": [
        "# D207- Exploratory Data Analysis\n",
        "___\n",
        "## Performance Assessment - Task 1: Exploratory Data Analysis OEM2\n",
        "### Medical Readmission Data Set (Clean)\n",
        "---\n",
        "<br></br>\n",
        "\n",
        "<br></br>"
      ],
      "id": "ee5e0528-d4bd-4530-80b9-16d63c983cc2"
    },
    {
      "cell_type": "markdown",
      "metadata": {
        "id": "827a1155-8009-412a-bb18-3b502189c21f"
      },
      "source": [
        "### A1: Question for Analysis"
      ],
      "id": "827a1155-8009-412a-bb18-3b502189c21f"
    },
    {
      "cell_type": "markdown",
      "metadata": {
        "id": "374a65c2-f393-4bd6-aaeb-3ccb08e28e00"
      },
      "source": [
        "### A2: Benefit from Analysis"
      ],
      "id": "374a65c2-f393-4bd6-aaeb-3ccb08e28e00"
    },
    {
      "cell_type": "markdown",
      "metadata": {
        "id": "Rc_zQyVMaK6H"
      },
      "source": [
        "### A3: Data Identification"
      ],
      "id": "Rc_zQyVMaK6H"
    },
    {
      "cell_type": "markdown",
      "metadata": {
        "id": "uBwbWpoWaq1T"
      },
      "source": [
        "### B1: Code"
      ],
      "id": "uBwbWpoWaq1T"
    },
    {
      "cell_type": "markdown",
      "metadata": {
        "id": "IeGE2aLGZD5J"
      },
      "source": [
        " ### B2: Output"
      ],
      "id": "IeGE2aLGZD5J"
    },
    {
      "cell_type": "markdown",
      "metadata": {
        "id": "5_adK0n-Zqti"
      },
      "source": [
        "### B3: Justification"
      ],
      "id": "5_adK0n-Zqti"
    },
    {
      "cell_type": "markdown",
      "metadata": {
        "id": "xqECdnV0avMt"
      },
      "source": [
        "### C: Univariate Statistics"
      ],
      "id": "xqECdnV0avMt"
    },
    {
      "cell_type": "markdown",
      "metadata": {
        "id": "pPW1SV7lbB7B"
      },
      "source": [
        "### C1: Visual of Findings"
      ],
      "id": "pPW1SV7lbB7B"
    },
    {
      "cell_type": "markdown",
      "metadata": {
        "id": "jDTvxf7WbLlU"
      },
      "source": [
        "### D: Bivariate Statistics"
      ],
      "id": "jDTvxf7WbLlU"
    },
    {
      "cell_type": "markdown",
      "metadata": {
        "id": "CO561xwtbZHB"
      },
      "source": [
        "### D1: Visual of Findings"
      ],
      "id": "CO561xwtbZHB"
    },
    {
      "cell_type": "markdown",
      "metadata": {
        "id": "wdSX39vsbh7P"
      },
      "source": [
        "### E1: Results of Analysis"
      ],
      "id": "wdSX39vsbh7P"
    },
    {
      "cell_type": "markdown",
      "metadata": {
        "id": "I08rh5Mibqj6"
      },
      "source": [
        "### E2: Limitations of Analysis"
      ],
      "id": "I08rh5Mibqj6"
    },
    {
      "cell_type": "markdown",
      "metadata": {
        "id": "XDJCSMzmbxS8"
      },
      "source": [
        "### E3: Recommended Course of Action"
      ],
      "id": "XDJCSMzmbxS8"
    },
    {
      "cell_type": "markdown",
      "metadata": {
        "id": "3DCr5UNGb3gM"
      },
      "source": [
        "### H: Sources"
      ],
      "id": "3DCr5UNGb3gM"
    }
  ]
}