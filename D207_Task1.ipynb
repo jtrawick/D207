{
 "cells": [
  {
   "cell_type": "markdown",
   "metadata": {
    "id": "ee5e0528-d4bd-4530-80b9-16d63c983cc2"
   },
   "source": [
    "# D207- Exploratory Data Analysis\n",
    "___\n",
    "## Performance Assessment - Task 1: Exploratory Data Analysis OEM2\n",
    "### Medical Readmission Data Set (Clean)\n",
    "---\n",
    "<br></br>\n",
    "\n",
    "<br></br>"
   ]
  },
  {
   "cell_type": "markdown",
   "metadata": {
    "id": "827a1155-8009-412a-bb18-3b502189c21f"
   },
   "source": [
    "### A1: Question for Analysis\n",
    "\n",
    "Is the initial length of a patient's hospital stay (Initial_days) correlated to the likelihood of that patient to be readmitted? \n"
   ]
  },
  {
   "cell_type": "markdown",
   "metadata": {
    "id": "374a65c2-f393-4bd6-aaeb-3ccb08e28e00"
   },
   "source": [
    "### A2: Benefit from Analysis\n",
    "\n",
    "Analyzing these data for patterns and trends would allow the company and its stakeholders to more accurately predict the probability of a patient being readmitted. Furthermore, gaining additional insight and intelligence into the potential outcomes would enable the organization to better predict both the associated cost and resources required by their facilities as well as the potential fines if they are unable to meet the standards required by CMS."
   ]
  },
  {
   "cell_type": "markdown",
   "metadata": {
    "id": "Rc_zQyVMaK6H"
   },
   "source": [
    "### A3: Data Identification"
   ]
  },
  {
   "cell_type": "markdown",
   "metadata": {
    "id": "_QNt0lxpkUyY"
   },
   "source": [
    "The relevant data from the medical_clean.csv dataset required to interrogate the question above include the \"Initial_days\" and \"ReAdmis\" variables. These two should be all we need to answer the question of whether or not the initial length of a patient's hospital stay is predictive of their probability of readmission."
   ]
  },
  {
   "cell_type": "markdown",
   "metadata": {
    "id": "uBwbWpoWaq1T"
   },
   "source": [
    "### B1 & B2: Code & Output\n",
    "___\n"
   ]
  },
  {
   "cell_type": "code",
   "execution_count": 3,
   "metadata": {},
   "outputs": [],
   "source": [
    "%config Completer.use_jedi = False"
   ]
  },
  {
   "cell_type": "code",
   "execution_count": 1,
   "metadata": {},
   "outputs": [
    {
     "name": "stdout",
     "output_type": "stream",
     "text": [
      "Ttest_indResult(statistic=161.9324105776643, pvalue=0.0)\n",
      "T-Test p-value returned as: 0.0 with an alpha of 0.05. \n",
      "P-value falls within .05 alpha: \n",
      "Reject the null hypothesis.\n"
     ]
    }
   ],
   "source": [
    "# load in all libraries\n",
    "import numpy as np\n",
    "import pandas as pd\n",
    "from scipy import stats\n",
    "import matplotlib.pyplot as plt\n",
    "import seaborn as sns\n",
    "import plotnine as p9 \n",
    "\n",
    "\n",
    "# read in dataset and sub-select necessary variables\n",
    "df = pd.read_csv('./data/medical_clean.csv', \n",
    "                usecols=['Initial_days', 'ReAdmis'])\n",
    "\n",
    "# two-sample t-test\n",
    "\n",
    "readmit_yes = df[df['ReAdmis'] == 'Yes'].Initial_days\n",
    "readmit_no = df[df['ReAdmis'] == 'No'].Initial_days\n",
    "\n",
    "ttest_result = stats.ttest_ind(readmit_yes, readmit_no)\n",
    "print(ttest_result)\n",
    "\n",
    "alpha = .05\n",
    "\n",
    "if (ttest_result[1] < alpha):\n",
    "    print(f'T-Test p-value returned as: {str(ttest_result[1])} with an alpha of {str(alpha)}. \\nP-value falls within .05 alpha: \\nReject the null hypothesis.')\n",
    "else:\n",
    "    print(f'T-Test p-value returned as: {str(ttest_result[1])} with an alpha of {str(alpha)}. \\nP-value does not fall within .05 alpha: \\nAccept the null hypothesis.')\n",
    "        "
   ]
  },
  {
   "cell_type": "markdown",
   "metadata": {
    "id": "5_adK0n-Zqti"
   },
   "source": [
    "### B3: Justification\n",
    "\n",
    "Due to the alternative hypothesis, namely, that there is a statistically significant link between the initial length of a pateint's hospitalization and that patient's probability of being readmitted, necessitating the analysis of one continuous variable (Initial_days) and one binary, categorical variable (ReAdmis), a t-test seemed the logical choice. As t-tests were initially designed to do simple A/B testing comparing two groups of the same sample to identify whether or not the two groups are different enough to warrant further investigation, I believe it works very well for our purposes here. ***CITE***"
   ]
  },
  {
   "cell_type": "markdown",
   "metadata": {
    "id": "xqECdnV0avMt"
   },
   "source": [
    "### C: Univariate Statistics\n",
    "\n",
    "For our visualization of two continuous variables, we will look at the distributions of observed patient vitamin D levels (VitD_levels) as well as the initial length of time (in days) paient's were hospitalized for (Initial_days). As vitamin D levels have been associated with immune support, among other benefits, it's plausible that for some patients higher levels of vitamin D may be associated with shorter hospitalizations. \n",
    "\n",
    "A possible limitation of this hypothesis is heterogeneity of the primary cause of hospitalization, as cases in which primary cause is related to infectious disease could theoretically be more applicable than trauma, for example. However, we'll plot the distributions anyway and see what the data look like."
   ]
  },
  {
   "cell_type": "code",
   "execution_count": 2,
   "metadata": {},
   "outputs": [
    {
     "data": {
      "text/html": [
       "<div>\n",
       "<style scoped>\n",
       "    .dataframe tbody tr th:only-of-type {\n",
       "        vertical-align: middle;\n",
       "    }\n",
       "\n",
       "    .dataframe tbody tr th {\n",
       "        vertical-align: top;\n",
       "    }\n",
       "\n",
       "    .dataframe thead th {\n",
       "        text-align: right;\n",
       "    }\n",
       "</style>\n",
       "<table border=\"1\" class=\"dataframe\">\n",
       "  <thead>\n",
       "    <tr style=\"text-align: right;\">\n",
       "      <th></th>\n",
       "      <th>ReAdmis</th>\n",
       "      <th>Initial_days</th>\n",
       "    </tr>\n",
       "  </thead>\n",
       "  <tbody>\n",
       "    <tr>\n",
       "      <th>0</th>\n",
       "      <td>No</td>\n",
       "      <td>10.585770</td>\n",
       "    </tr>\n",
       "    <tr>\n",
       "      <th>1</th>\n",
       "      <td>No</td>\n",
       "      <td>15.129562</td>\n",
       "    </tr>\n",
       "    <tr>\n",
       "      <th>2</th>\n",
       "      <td>No</td>\n",
       "      <td>4.772177</td>\n",
       "    </tr>\n",
       "    <tr>\n",
       "      <th>3</th>\n",
       "      <td>No</td>\n",
       "      <td>1.714879</td>\n",
       "    </tr>\n",
       "    <tr>\n",
       "      <th>4</th>\n",
       "      <td>No</td>\n",
       "      <td>1.254807</td>\n",
       "    </tr>\n",
       "  </tbody>\n",
       "</table>\n",
       "</div>"
      ],
      "text/plain": [
       "  ReAdmis  Initial_days\n",
       "0      No     10.585770\n",
       "1      No     15.129562\n",
       "2      No      4.772177\n",
       "3      No      1.714879\n",
       "4      No      1.254807"
      ]
     },
     "execution_count": 2,
     "metadata": {},
     "output_type": "execute_result"
    }
   ],
   "source": [
    "df_c = pd.read_csv('./data/medical_clean.csv',\n",
    "                usecols=[''])"
   ]
  },
  {
   "cell_type": "markdown",
   "metadata": {
    "id": "pPW1SV7lbB7B"
   },
   "source": [
    "### C1: Visual of Findings"
   ]
  },
  {
   "cell_type": "markdown",
   "metadata": {
    "id": "jDTvxf7WbLlU"
   },
   "source": [
    "### D: Bivariate Statistics"
   ]
  },
  {
   "cell_type": "markdown",
   "metadata": {
    "id": "CO561xwtbZHB"
   },
   "source": [
    "### D1: Visual of Findings"
   ]
  },
  {
   "cell_type": "markdown",
   "metadata": {
    "id": "wdSX39vsbh7P"
   },
   "source": [
    "### E1: Results of Analysis"
   ]
  },
  {
   "cell_type": "markdown",
   "metadata": {
    "id": "I08rh5Mibqj6"
   },
   "source": [
    "### E2: Limitations of Analysis"
   ]
  },
  {
   "cell_type": "markdown",
   "metadata": {
    "id": "XDJCSMzmbxS8"
   },
   "source": [
    "### E3: Recommended Course of Action"
   ]
  },
  {
   "cell_type": "markdown",
   "metadata": {
    "id": "3DCr5UNGb3gM"
   },
   "source": [
    "### H: Sources"
   ]
  },
  {
   "cell_type": "code",
   "execution_count": null,
   "metadata": {},
   "outputs": [],
   "source": [
    "# boxplot\n",
    "\n",
    "print(\n",
    "    p9.ggplot(df) +\n",
    "    p9.aes(x='ReAdmis', y='Initial_days', fill='ReAdmis') +\n",
    "    p9.geom_boxplot())"
   ]
  },
  {
   "cell_type": "code",
   "execution_count": null,
   "metadata": {},
   "outputs": [],
   "source": [
    "# density plot\n",
    "\n",
    "print(\n",
    "    p9.ggplot(df) +\n",
    "    p9.aes(x='Initial_days', fill='ReAdmis') +\n",
    "    p9.geom_density(alpha=0.5))"
   ]
  }
 ],
 "metadata": {
  "colab": {
   "collapsed_sections": [],
   "name": "D207.ipynb",
   "provenance": [],
   "toc_visible": true
  },
  "interpreter": {
   "hash": "31f2aee4e71d21fbe5cf8b01ff0e069b9275f58929596ceb00d14d90e3e16cd6"
  },
  "kernelspec": {
   "display_name": "Python 3.8.9 64-bit",
   "name": "python3"
  },
  "language_info": {
   "codemirror_mode": {
    "name": "ipython",
    "version": 3
   },
   "file_extension": ".py",
   "mimetype": "text/x-python",
   "name": "python",
   "nbconvert_exporter": "python",
   "pygments_lexer": "ipython3",
   "version": "3.8.9"
  }
 },
 "nbformat": 4,
 "nbformat_minor": 5
}
