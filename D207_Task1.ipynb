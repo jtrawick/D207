{
  "nbformat": 4,
  "nbformat_minor": 5,
  "metadata": {
    "kernelspec": {
      "display_name": "Python 3",
      "language": "python",
      "name": "python3"
    },
    "language_info": {
      "codemirror_mode": {
        "name": "ipython",
        "version": 3
      },
      "file_extension": ".py",
      "mimetype": "text/x-python",
      "name": "python",
      "nbconvert_exporter": "python",
      "pygments_lexer": "ipython3",
      "version": "3.8.10"
    },
    "colab": {
      "name": "D207.ipynb",
      "provenance": [],
      "toc_visible": true,
      "include_colab_link": true
    }
  },
  "cells": [
    {
      "cell_type": "markdown",
      "metadata": {
        "id": "view-in-github",
        "colab_type": "text"
      },
      "source": [
        "<a href=\"https://colab.research.google.com/github/jtrawick/D207/blob/main/D207.ipynb\" target=\"_parent\"><img src=\"https://colab.research.google.com/assets/colab-badge.svg\" alt=\"Open In Colab\"/></a>"
      ]
    },
    {
      "cell_type": "markdown",
      "metadata": {
        "id": "ee5e0528-d4bd-4530-80b9-16d63c983cc2"
      },
      "source": [
        "# D207- Exploratory Data Analysis\n",
        "___\n",
        "## Performance Assessment - Task 1: Exploratory Data Analysis OEM2\n",
        "### Medical Readmission Data Set (Clean)\n",
        "---\n",
        "<br></br>\n",
        "\n",
        "<br></br>"
      ],
      "id": "ee5e0528-d4bd-4530-80b9-16d63c983cc2"
    },
    {
      "cell_type": "markdown",
      "metadata": {
        "id": "827a1155-8009-412a-bb18-3b502189c21f"
      },
      "source": [
        "### A1: Question for Analysis\n",
        "\n",
        "Is the initial length of a patient's hospital stay (Initial_days) correlated to the likelihood of that patient to be readmitted? \n"
      ],
      "id": "827a1155-8009-412a-bb18-3b502189c21f"
    },
    {
      "cell_type": "markdown",
      "metadata": {
        "id": "374a65c2-f393-4bd6-aaeb-3ccb08e28e00"
      },
      "source": [
        "### A2: Benefit from Analysis\n",
        "\n",
        "Analyzing these data for patterns and trends would allow the company and its stakeholders to more accurately predict the probability of a patient being readmitted. Furthermore, gaining additional insight and intelligence into the potential outcomes would enable the organization to better predict both the associated cost and resources required by their facilities as well as the potential fines if they are unable to meet the standards required by CMS."
      ],
      "id": "374a65c2-f393-4bd6-aaeb-3ccb08e28e00"
    },
    {
      "cell_type": "markdown",
      "metadata": {
        "id": "Rc_zQyVMaK6H"
      },
      "source": [
        "### A3: Data Identification"
      ],
      "id": "Rc_zQyVMaK6H"
    },
    {
      "cell_type": "markdown",
      "metadata": {
        "id": "_QNt0lxpkUyY"
      },
      "source": [
        "The relevant data from the medical_clean.csv dataset required to interrogate the question above include the \"Initial_days\" and \"ReAdmis\" variables. These two should be all we need to answer the question of whether or not the initial length of a patient's hospital stay is predictive of their probability of readmission."
      ],
      "id": "_QNt0lxpkUyY"
    },
    {
      "cell_type": "markdown",
      "metadata": {
        "id": "uBwbWpoWaq1T"
      },
      "source": [
        "### B1: Code\n",
        "___\n"
      ],
      "id": "uBwbWpoWaq1T"
    },
    {
      "cell_type": "code",
      "metadata": {
        "id": "DyhODa59JvfY"
      },
      "source": [
        "# load in all libraries\n",
        "import numpy as np\n",
        "import pandas as pd\n",
        "from scipy import stats\n",
        "import matplotlib.pyplot as plt\n",
        "import seaborn as sns\n",
        "import plotnine as p9 "
      ],
      "id": "DyhODa59JvfY",
      "execution_count": 2,
      "outputs": []
    },
    {
      "cell_type": "code",
      "metadata": {
        "id": "ICuN43UFKPw_"
      },
      "source": [
        "pd.crosstab()"
      ],
      "id": "ICuN43UFKPw_",
      "execution_count": null,
      "outputs": []
    },
    {
      "cell_type": "markdown",
      "metadata": {
        "id": "IeGE2aLGZD5J"
      },
      "source": [
        " ### B2: Output"
      ],
      "id": "IeGE2aLGZD5J"
    },
    {
      "cell_type": "markdown",
      "metadata": {
        "id": "5_adK0n-Zqti"
      },
      "source": [
        "### B3: Justification"
      ],
      "id": "5_adK0n-Zqti"
    },
    {
      "cell_type": "markdown",
      "metadata": {
        "id": "xqECdnV0avMt"
      },
      "source": [
        "### C: Univariate Statistics"
      ],
      "id": "xqECdnV0avMt"
    },
    {
      "cell_type": "markdown",
      "metadata": {
        "id": "pPW1SV7lbB7B"
      },
      "source": [
        "### C1: Visual of Findings"
      ],
      "id": "pPW1SV7lbB7B"
    },
    {
      "cell_type": "markdown",
      "metadata": {
        "id": "jDTvxf7WbLlU"
      },
      "source": [
        "### D: Bivariate Statistics"
      ],
      "id": "jDTvxf7WbLlU"
    },
    {
      "cell_type": "markdown",
      "metadata": {
        "id": "CO561xwtbZHB"
      },
      "source": [
        "### D1: Visual of Findings"
      ],
      "id": "CO561xwtbZHB"
    },
    {
      "cell_type": "markdown",
      "metadata": {
        "id": "wdSX39vsbh7P"
      },
      "source": [
        "### E1: Results of Analysis"
      ],
      "id": "wdSX39vsbh7P"
    },
    {
      "cell_type": "markdown",
      "metadata": {
        "id": "I08rh5Mibqj6"
      },
      "source": [
        "### E2: Limitations of Analysis"
      ],
      "id": "I08rh5Mibqj6"
    },
    {
      "cell_type": "markdown",
      "metadata": {
        "id": "XDJCSMzmbxS8"
      },
      "source": [
        "### E3: Recommended Course of Action"
      ],
      "id": "XDJCSMzmbxS8"
    },
    {
      "cell_type": "markdown",
      "metadata": {
        "id": "3DCr5UNGb3gM"
      },
      "source": [
        "### H: Sources"
      ],
      "id": "3DCr5UNGb3gM"
    }
  ]
}
